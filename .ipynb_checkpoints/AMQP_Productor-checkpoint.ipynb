{
 "cells": [
  {
   "cell_type": "code",
   "execution_count": null,
   "metadata": {},
   "outputs": [],
   "source": [
    "pip install pika"
   ]
  },
  {
   "cell_type": "markdown",
   "metadata": {},
   "source": [
    "# Usando un broker local\n",
    "\n",
    "Para esto se requiere tener una instancia de AMQP instalada en el equipo, esto puede hacerse mediante un contenedor de Docker o instalando la aplicación de [RabbitMQ](https://www.rabbitmq.com/docs/install-windows)"
   ]
  },
  {
   "cell_type": "code",
   "execution_count": null,
   "metadata": {},
   "outputs": [],
   "source": [
    "import pika\n",
    "\n",
    "connect = pika.BlockingConnection(pika.ConnectionParameters(host='localhost')) #para establecer conexión\n",
    "channel = connect.channel()\n",
    "#ahora declaramos la cola o queue\n",
    "cola=\"local\"\n",
    "channel.queue_declare(queue=cola)\n",
    "\n",
    "msg=input(\"Escribe tu mensaje: \")\n",
    "\n",
    "try:\n",
    "    while msg != \".\" : \n",
    "        channel.basic_publish(exchange='',routing_key=cola,body=msg)\n",
    "        print(\"Enviando :\",msg)\n",
    "        msg=input(\"Escribe tu mensaje: \")\n",
    "except KeyboardInterrupt: #cuando presionas Ctrl + C\n",
    "    print(\"Envío de datos detenido por el usuario\")\n",
    "    connect.close()\n"
   ]
  },
  {
   "cell_type": "markdown",
   "metadata": {},
   "source": [
    "# Usando un broker público"
   ]
  },
  {
   "cell_type": "code",
   "execution_count": null,
   "metadata": {},
   "outputs": [],
   "source": [
    "import pika #,os\n",
    "import os\n",
    "\n",
    "broker='amqp://10.48.60.51:5672'\n",
    "\n",
    "url = os.environ.get('CLOUDAMQP_URL', broker)\n",
    "params = pika.URLParameters(url)\n",
    "connect = pika.BlockingConnection(params)\n",
    "channel = connect.channel()\n",
    "#ahora declaramos la cola o queue\n",
    "cola=\"TE4017\"\n",
    "channel.queue_declare(queue=cola)\n",
    "\n",
    "msg=input(\"Escribe tu mensaje: \")\n",
    "\n",
    "try:\n",
    "    while msg != \".\" : \n",
    "        channel.basic_publish(exchange='',routing_key=cola,body=msg)\n",
    "        print(\"Enviando :\",msg)\n",
    "        msg=input(\"Escribe tu mensaje: \")\n",
    "except KeyboardInterrupt: #cuando presionas Ctrl + C\n",
    "    print(\"Envío de datos detenido por el usuario\")\n",
    "    connect.close()"
   ]
  },
  {
   "cell_type": "markdown",
   "metadata": {},
   "source": [
    "# Broker público, colas múltiples"
   ]
  },
  {
   "cell_type": "code",
   "execution_count": null,
   "metadata": {},
   "outputs": [],
   "source": [
    "import pika\n",
    "import pandas as pd\n",
    "import time\n",
    "import os\n",
    "import json\n",
    "\n",
    "dataframe = pd.read_csv(\"DatosPruebaMQTT.csv\", index_col=0)\n",
    "dataframe.head()\n",
    "dataframe.describe(include=\"all\")\n",
    "\n",
    "temp = dataframe.Temperature.tolist()\n",
    "hum = dataframe.Humidity.tolist()\n",
    "co = dataframe.CO2.tolist()\n",
    "\n",
    "broker = 'amqp://10.48.60.51:5672'\n",
    "\n",
    "url = os.environ.get('CLOUDAMQP_URL', broker)\n",
    "params = pika.URLParameters(url)\n",
    "connect = pika.BlockingConnection(params)\n",
    "channel = connect.channel()\n",
    "\n",
    "colas=[\"temp\",\"humid\",\"CO2\"]\n",
    "for q in colas:\n",
    "    channel.queue_declare(queue=q)\n",
    "        \n",
    "time.sleep(0.1)\n",
    "try:\n",
    "    for i,j,k in zip(temp,hum,co):\n",
    "        val1,val2,val3=json.dumps({\"Temperatura\":i}),json.dumps({\"Humedad\":j}),json.dumps({\"Dioxido de carbono\":k})\n",
    "        print(colas[0],val1,'\\n',colas[1],val2,'\\n',colas[2],val3)\n",
    "\n",
    "        channel.basic_publish(exchange='', routing_key='temp', body=val1)\n",
    "        channel.basic_publish(exchange='', routing_key='humid', body=val2)\n",
    "        channel.basic_publish(exchange='', routing_key='CO2', body=val3)\n",
    "        time.sleep(1)\n",
    "except KeyboardInterrupt:\n",
    "    print(\"Envío de datos detenido por el usuario\")\n",
    "    connect.close()"
   ]
  },
  {
   "cell_type": "code",
   "execution_count": null,
   "metadata": {},
   "outputs": [],
   "source": []
  }
 ],
 "metadata": {
  "kernelspec": {
   "display_name": "Python 3 (ipykernel)",
   "language": "python",
   "name": "python3"
  },
  "language_info": {
   "codemirror_mode": {
    "name": "ipython",
    "version": 3
   },
   "file_extension": ".py",
   "mimetype": "text/x-python",
   "name": "python",
   "nbconvert_exporter": "python",
   "pygments_lexer": "ipython3",
   "version": "3.11.5"
  },
  "vscode": {
   "interpreter": {
    "hash": "76080cc002e9d85606df616fc7234b9ca5f3ef72eb9802833df3b0586be1af89"
   }
  }
 },
 "nbformat": 4,
 "nbformat_minor": 2
}
