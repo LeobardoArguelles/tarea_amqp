{
 "cells": [
  {
   "cell_type": "markdown",
   "metadata": {},
   "source": [
    "# Usando un broker local\n",
    "Para esto se requiere tener una instancia de AMQP instalada en el equipo, esto puede hacerse mediante un contenedor de Docker o instalando la aplicación de [RabbitMQ](https://www.rabbitmq.com/docs/install-windows)"
   ]
  },
  {
   "cell_type": "code",
   "execution_count": null,
   "metadata": {},
   "outputs": [],
   "source": [
    "import pika\n",
    "\n",
    "def receptor():\n",
    "    connection = pika.BlockingConnection(pika.ConnectionParameters(host='localhost')) #para establecer conexión\n",
    "    channel = connection.channel()\n",
    "    #ahora declaramos la cola o queue que vamos a 'consumir'\n",
    "    cola=\"local\"\n",
    "    channel.queue_declare(queue=cola)\n",
    "    \n",
    "    def callback(ch, method, properties, body):\n",
    "        print(\"Mensaje recibido %r\" % body.decode())\n",
    "    \n",
    "    channel.basic_consume(queue=cola,on_message_callback=callback)\n",
    "    channel.start_consuming()\n",
    "\n",
    "try:\n",
    "    receptor()\n",
    "except KeyboardInterrupt: #cuando presionas Ctrl + C\n",
    "    print(\"Recepción de datos detenida por el usuario\")"
   ]
  },
  {
   "cell_type": "markdown",
   "metadata": {},
   "source": [
    "# Usando un broker público"
   ]
  },
  {
   "cell_type": "code",
   "execution_count": null,
   "metadata": {},
   "outputs": [],
   "source": [
    "import pika,os\n",
    "\n",
    "broker='amqp://10.48.60.51:5672'\n",
    "\n",
    "def receptor():\n",
    "    url = os.environ.get('CLOUDAMQP_URL', broker)\n",
    "    params = pika.URLParameters(url)\n",
    "    connection = pika.BlockingConnection(params)\n",
    "    channel = connection.channel()\n",
    "    #ahora declaramos la cola o queue que vamos a 'consumir'\n",
    "    cola=\"TE4017\"\n",
    "    channel.queue_declare(queue=cola)\n",
    "    print(\"En espera de mensajes\")\n",
    "    \n",
    "    def callback(ch, method, properties, body):\n",
    "        print(\"Mensaje recibido %r\" % body.decode())\n",
    "    \n",
    "    channel.basic_consume(queue=cola,on_message_callback=callback)\n",
    "    channel.start_consuming()\n",
    "    \n",
    "try:\n",
    "    receptor()\n",
    "except KeyboardInterrupt: #cuando presionas Ctrl + C\n",
    "    print(\"Recepción de datos detenida por el usuario\")"
   ]
  },
  {
   "cell_type": "markdown",
   "metadata": {},
   "source": [
    "# Colas múltiples"
   ]
  },
  {
   "cell_type": "code",
   "execution_count": null,
   "metadata": {
    "scrolled": false
   },
   "outputs": [],
   "source": [
    "import pika,os\n",
    "\n",
    "broker = 'amqp://10.48.60.51:5672'\n",
    "\n",
    "def receptor():\n",
    "    url = os.environ.get('CLOUDAMQP_URL', broker)\n",
    "    params = pika.URLParameters(url)\n",
    "    connection = pika.BlockingConnection(params)\n",
    "    channel = connection.channel()\n",
    "    #ahora declaramos la cola o queue que vamos a 'consumir'\n",
    "    colas=[\"temp\",\"humid\",\"CO2\"]\n",
    "    for i in colas:\n",
    "        channel.queue_declare(queue=i)\n",
    "        \n",
    "    print(\"En espera de mensajes\")\n",
    "    def callback(ch, method, properties, body):\n",
    "        print(\"Mensaje recibido %r\" % body.decode())\n",
    "    \n",
    "    for j in colas:\n",
    "        channel.basic_consume(queue=j,on_message_callback=callback)\n",
    "    \n",
    "    channel.start_consuming()\n",
    "    \n",
    "try:\n",
    "    receptor()\n",
    "except KeyboardInterrupt: #cuando presionas Ctrl + C\n",
    "    print(\"Recepción de datos detenida por el usuario\")"
   ]
  },
  {
   "cell_type": "code",
   "execution_count": null,
   "metadata": {},
   "outputs": [],
   "source": []
  }
 ],
 "metadata": {
  "kernelspec": {
   "display_name": "Python 3 (ipykernel)",
   "language": "python",
   "name": "python3"
  },
  "language_info": {
   "codemirror_mode": {
    "name": "ipython",
    "version": 3
   },
   "file_extension": ".py",
   "mimetype": "text/x-python",
   "name": "python",
   "nbconvert_exporter": "python",
   "pygments_lexer": "ipython3",
   "version": "3.11.5"
  },
  "vscode": {
   "interpreter": {
    "hash": "76080cc002e9d85606df616fc7234b9ca5f3ef72eb9802833df3b0586be1af89"
   }
  }
 },
 "nbformat": 4,
 "nbformat_minor": 2
}
